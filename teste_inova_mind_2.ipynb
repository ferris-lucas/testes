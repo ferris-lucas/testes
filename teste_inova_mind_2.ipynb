{
  "nbformat": 4,
  "nbformat_minor": 0,
  "metadata": {
    "colab": {
      "name": "teste-inova-mind-2.ipynb",
      "provenance": []
    },
    "kernelspec": {
      "name": "python3",
      "display_name": "Python 3"
    }
  },
  "cells": [
    {
      "cell_type": "code",
      "metadata": {
        "id": "LQixypp3jAVK"
      },
      "source": [
        "import pandas as pd\r\n",
        "\r\n",
        "def ano_mais_trabalhado(arg):\r\n",
        "  \"\"\"Método para calcular em qual ano houve mais pessoas trbalhando.\r\n",
        "\r\n",
        "  Args:\r\n",
        "        arg (lista) -> [[x1, y1], [x2, y2], ..., [xn, yn]]\r\n",
        "        x é o ano de início, inclusive\r\n",
        "        y é o ano de término, inclusive\r\n",
        "\r\n",
        "  Return:\r\n",
        "        print a informação do ano mais trabalhado e quantidade de trabalhadores\r\n",
        "        no referido ano\r\n",
        "        caso haja mais de um ano com o mesmo valor máximo, imprime várias vezes\r\n",
        "  \"\"\"\r\n",
        "\r\n",
        "  matriz_dados = arg\r\n",
        "\r\n",
        "  #converte os pares de anos x / y em intervalos\r\n",
        "\r\n",
        "  lista_anos = []\r\n",
        "  for x in range(len(matriz_dados)): \r\n",
        "    #adiciona a cada linha de lista_anos o range correspondente ao interfalo XY\r\n",
        "    lista_anos.append(list(range(matriz_dados[x][0], matriz_dados[x][1]+1)))\r\n",
        "\r\n",
        "  df = pd.DataFrame(matriz_dados, columns=['X', 'Y'])\r\n",
        "  df[\"anos_trabalhados\"] = lista_anos\r\n",
        "\r\n",
        "  #explode a coluna anos_trabalhados, cada ano fica em uma linha\r\n",
        "\r\n",
        "  df = df.explode('anos_trabalhados')\r\n",
        "  \r\n",
        "  #filtra a coluna anos_trabalhados considerando anos únicos e frequência\r\n",
        "  #a lista já está na ordem decrescente\r\n",
        "\r\n",
        "  df = df.anos_trabalhados.value_counts().to_frame()\r\n",
        "\r\n",
        "  #passa por toda coluna e compara o primeiro item (ano mais frequente) com os\r\n",
        "  #próximo, para o caso de haver mais de um ano com frequência máxima\r\n",
        "  \r\n",
        "  for x in range(len(df.index)):\r\n",
        "    if (df.iloc[x][0]) == df.iloc[0][0]:\r\n",
        "      print(f\"O ano com mais pessoas trabalhando foi {df.index.tolist()[x]}\" + \r\n",
        "      f\" com um total de {df.iloc[x][0]} pessoas.\")"
      ],
      "execution_count": 47,
      "outputs": []
    },
    {
      "cell_type": "code",
      "metadata": {
        "id": "veo43uSAm7Lz",
        "colab": {
          "base_uri": "https://localhost:8080/",
          "height": 204
        },
        "outputId": "63bf822f-01dc-40f4-df3d-863f700ff6b1"
      },
      "source": [
        "#usa uma base de dados criada para testar\r\n",
        "\r\n",
        "uri = \"https://raw.githubusercontent.com/ferris77/testes/aff512f984e9379e9ce7a7b40b8f95b9cf9c5607/dados_para_teste.csv\"\r\n",
        "\r\n",
        "dados_teste = pd.read_csv(uri)\r\n",
        "\r\n",
        "dados_teste.head()"
      ],
      "execution_count": 48,
      "outputs": [
        {
          "output_type": "execute_result",
          "data": {
            "text/html": [
              "<div>\n",
              "<style scoped>\n",
              "    .dataframe tbody tr th:only-of-type {\n",
              "        vertical-align: middle;\n",
              "    }\n",
              "\n",
              "    .dataframe tbody tr th {\n",
              "        vertical-align: top;\n",
              "    }\n",
              "\n",
              "    .dataframe thead th {\n",
              "        text-align: right;\n",
              "    }\n",
              "</style>\n",
              "<table border=\"1\" class=\"dataframe\">\n",
              "  <thead>\n",
              "    <tr style=\"text-align: right;\">\n",
              "      <th></th>\n",
              "      <th>X</th>\n",
              "      <th>Y</th>\n",
              "    </tr>\n",
              "  </thead>\n",
              "  <tbody>\n",
              "    <tr>\n",
              "      <th>0</th>\n",
              "      <td>1950</td>\n",
              "      <td>2000</td>\n",
              "    </tr>\n",
              "    <tr>\n",
              "      <th>1</th>\n",
              "      <td>1986</td>\n",
              "      <td>2016</td>\n",
              "    </tr>\n",
              "    <tr>\n",
              "      <th>2</th>\n",
              "      <td>1987</td>\n",
              "      <td>2014</td>\n",
              "    </tr>\n",
              "    <tr>\n",
              "      <th>3</th>\n",
              "      <td>1960</td>\n",
              "      <td>2003</td>\n",
              "    </tr>\n",
              "    <tr>\n",
              "      <th>4</th>\n",
              "      <td>1956</td>\n",
              "      <td>2012</td>\n",
              "    </tr>\n",
              "  </tbody>\n",
              "</table>\n",
              "</div>"
            ],
            "text/plain": [
              "      X     Y\n",
              "0  1950  2000\n",
              "1  1986  2016\n",
              "2  1987  2014\n",
              "3  1960  2003\n",
              "4  1956  2012"
            ]
          },
          "metadata": {
            "tags": []
          },
          "execution_count": 48
        }
      ]
    },
    {
      "cell_type": "code",
      "metadata": {
        "colab": {
          "base_uri": "https://localhost:8080/"
        },
        "id": "kgUy7pKRzMZd",
        "outputId": "8fc29175-b797-45be-c4f6-98cbac68ca9b"
      },
      "source": [
        "ano_mais_trabalhado(dados_teste.values.tolist())"
      ],
      "execution_count": 49,
      "outputs": [
        {
          "output_type": "stream",
          "text": [
            "O ano com mais pessoas trabalhando foi 2000 com um total de 50 pessoas.\n"
          ],
          "name": "stdout"
        }
      ]
    }
  ]
}