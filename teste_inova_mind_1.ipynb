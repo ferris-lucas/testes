{
  "nbformat": 4,
  "nbformat_minor": 0,
  "metadata": {
    "colab": {
      "name": "teste-inova-mind-1.ipynb",
      "provenance": [],
      "authorship_tag": "ABX9TyNfUo7zaqDdrnzA6Lp3Zj9M",
      "include_colab_link": true
    },
    "kernelspec": {
      "name": "python3",
      "display_name": "Python 3"
    }
  },
  "cells": [
    {
      "cell_type": "markdown",
      "metadata": {
        "id": "view-in-github",
        "colab_type": "text"
      },
      "source": [
        "<a href=\"https://colab.research.google.com/github/ferris77/testes/blob/main/teste_inova_mind_1.ipynb\" target=\"_parent\"><img src=\"https://colab.research.google.com/assets/colab-badge.svg\" alt=\"Open In Colab\"/></a>"
      ]
    },
    {
      "cell_type": "code",
      "metadata": {
        "id": "peLZa5SbpVps"
      },
      "source": [
        "def validar_sequencia(arg):\r\n",
        "  \"\"\"Método para ler uma sequencia de strings to tipo [ { ( e retornar se esta\r\n",
        "  sequencia é válida ou não. Sequências válidas são as que todas as chaves, \r\n",
        "  parênteses e colchetes fecham corretamente.\r\n",
        "\r\n",
        "  Args:\r\n",
        "        arg (str) -> string com a sequência de caracteres que queremos testar\r\n",
        "\r\n",
        "  Return:\r\n",
        "        print uma mensagem de sequência válida ou inválida\r\n",
        "  \"\"\"\r\n",
        "  \r\n",
        "  #calcula se a diferença entre abre / fecha é zero\r\n",
        "  \r\n",
        "  check_chaves = arg.count('{') - arg.count('}')\r\n",
        "  check_colchetes = arg.count('[') - arg.count(']')\r\n",
        "  check_parenteses = arg.count('(') - arg.count(')')\r\n",
        "\r\n",
        "  #Se a quantidade de pares de um item for igual, a sequência será válida\r\n",
        "\r\n",
        "  if ((check_chaves == 0) and (check_colchetes == 0) and (check_parenteses == 0)):\r\n",
        "    return \"Sequência válida!\"\r\n",
        "  else:\r\n",
        "    return \"Sequência inválida!\"    \r\n",
        "   "
      ],
      "execution_count": 1,
      "outputs": []
    },
    {
      "cell_type": "code",
      "metadata": {
        "colab": {
          "base_uri": "https://localhost:8080/"
        },
        "id": "OCxjKT2Wvwds",
        "outputId": "532507c0-88b1-4feb-f79c-b82061d7b5df"
      },
      "source": [
        "import time\r\n",
        "\r\n",
        "def check_results():\r\n",
        "  \"\"\"Função para testar o código\r\n",
        "  Vamos definir algumas sequências e enviar para teste.\r\n",
        "\r\n",
        "  Args:\r\n",
        "        None\r\n",
        "  Return:\r\n",
        "        None  \r\n",
        "  \"\"\"\r\n",
        "  start_time = time.time()\r\n",
        "\r\n",
        "  #1 a 5 são sequências válidas, 6 a 10 não\r\n",
        "\r\n",
        "  string_1 = '()([])'\r\n",
        "  string_2 = '{}()()'\r\n",
        "  string_3 = '[[[[]]]]'\r\n",
        "  string_4 = '{{{{{{}}}}}}'\r\n",
        "  string_5 = '([{([{)]})]}'\r\n",
        "  string_6 = '('\r\n",
        "  string_7 = '[[[[[[[[[['\r\n",
        "  string_8 = '((((((((()){{{{{{{{{[[[['\r\n",
        "  string_9 = '[][][][][][[]'\r\n",
        "  string_10 = '{}{}{}{}{}{}{}{}}}}}}}}}'\r\n",
        "\r\n",
        "  assert validar_sequencia(string_1) == 'Sequência válida!'\r\n",
        "  assert validar_sequencia(string_2) == 'Sequência válida!'\r\n",
        "  assert validar_sequencia(string_3) == 'Sequência válida!'\r\n",
        "  assert validar_sequencia(string_4) == 'Sequência válida!'\r\n",
        "  assert validar_sequencia(string_5) == 'Sequência válida!'\r\n",
        "  assert validar_sequencia(string_6) == 'Sequência inválida!'\r\n",
        "  assert validar_sequencia(string_7) == 'Sequência inválida!'\r\n",
        "  assert validar_sequencia(string_8) == 'Sequência inválida!'\r\n",
        "  assert validar_sequencia(string_9) == 'Sequência inválida!'\r\n",
        "  assert validar_sequencia(string_10) == 'Sequência inválida!'\r\n",
        "\r\n",
        "  print('Testes ok!')\r\n",
        "  print(f'{(time.time() - start_time):2f} segundos para executar')\r\n",
        "\r\n",
        "check_results()"
      ],
      "execution_count": 2,
      "outputs": [
        {
          "output_type": "stream",
          "text": [
            "Testes ok!\n",
            "0.000608 segundos para executar\n"
          ],
          "name": "stdout"
        }
      ]
    }
  ]
}